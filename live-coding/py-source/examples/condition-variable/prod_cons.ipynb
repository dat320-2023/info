{
 "cells": [
  {
   "cell_type": "code",
   "execution_count": null,
   "id": "f52acaf3-194a-4ef2-a27a-55e404047350",
   "metadata": {},
   "outputs": [],
   "source": []
  },
  {
   "cell_type": "code",
   "execution_count": null,
   "id": "28aebd13-b61f-46c6-865a-a824d87ad703",
   "metadata": {},
   "outputs": [],
   "source": []
  },
  {
   "cell_type": "markdown",
   "id": "d3e288ca-128c-45a2-8d2f-b1a47e659132",
   "metadata": {},
   "source": [
    "# Producer Consumer Basic\n",
    "\n",
    "## This is wrong"
   ]
  },
  {
   "cell_type": "code",
   "execution_count": null,
   "id": "2e0429be-43e5-4512-89c7-a54f6da1b9bf",
   "metadata": {},
   "outputs": [],
   "source": [
    "import threading\n",
    "from threading import Condition, Lock\n",
    "import time\n",
    "import random\n",
    "queue = []\n",
    "lock = Lock()\n",
    "\n",
    "def produce():\n",
    "    nums = range(5) #Will create the list [0, 1, 2, 3, 4]\n",
    "    global queue\n",
    "    while True:\n",
    "        num = random.choice(nums) #choose a random number from nums\n",
    "        lock.acquire()\n",
    "        queue.append(num)\n",
    "        print(\"Produced\", num)\n",
    "        lock.release()\n",
    "        time.sleep(10)\n",
    "\n",
    "def consume():\n",
    "    global queue\n",
    "    while True:\n",
    "        lock.acquire()\n",
    "        if not queue:\n",
    "            print (\"Nothing in queue, Wait\")\n",
    "        else:          \n",
    "            num = queue.pop(0)\n",
    "            print(\"Consumed\", num)\n",
    "        lock.release()\n",
    "        time.sleep(1)\n",
    "        \n",
    "p=threading.Thread(target=produce)\n",
    "c=threading.Thread(target=consume)\n",
    "p.start()\n",
    "c.start()\n",
    "p.join()\n",
    "c.join()\n",
    "time.sleep(1)\n",
    "print(\"Finished\")"
   ]
  },
  {
   "cell_type": "markdown",
   "id": "5330baa6-f428-4ae7-bb34-0313d7d3b47e",
   "metadata": {},
   "source": [
    "## This is better but with no buffer size"
   ]
  },
  {
   "cell_type": "code",
   "execution_count": null,
   "id": "d0bf5422-1666-4fab-837f-bc95fe80a2d4",
   "metadata": {},
   "outputs": [
    {
     "name": "stdout",
     "output_type": "stream",
     "text": [
      "Produced 4 queue size 1\n",
      "Consumed 4\n",
      "Nothing in queue, Wait\n",
      "Produced 1 queue size 1\n",
      "Consumed 1\n",
      "Nothing in queue, Wait\n",
      "Produced 3 queue size 1\n",
      "Consumed 3\n",
      "Nothing in queue, Wait\n",
      "Produced 0 queue size 1\n",
      "Consumed 0\n",
      "Nothing in queue, Wait\n",
      "Produced 2 queue size 1\n",
      "Consumed 2\n"
     ]
    }
   ],
   "source": [
    "import threading\n",
    "from threading import Condition, Lock\n",
    "import time\n",
    "import random\n",
    "queue = []\n",
    "condition = Condition()\n",
    "\n",
    "def produce():\n",
    "    nums = range(5) #Will create the list [0, 1, 2, 3, 4]\n",
    "    global queue\n",
    "    while True:\n",
    "        num = random.choice(nums) #choose a random number from nums\n",
    "        condition.acquire()\n",
    "        queue.append(num)\n",
    "        print(\"Produced\", num, \"queue size\", len(queue))\n",
    "        condition.notify()\n",
    "        condition.release()\n",
    "        time.sleep(10)\n",
    "\n",
    "def consume():\n",
    "    global queue\n",
    "    while True:\n",
    "        condition.acquire()\n",
    "        if not queue:\n",
    "            print (\"Nothing in queue, Wait\")\n",
    "            condition.wait()\n",
    "        num = queue.pop(0)\n",
    "        print(\"Consumed\", num)\n",
    "        condition.release()\n",
    "        time.sleep(1)\n",
    "        \n",
    "p=threading.Thread(target=produce)\n",
    "c=threading.Thread(target=consume)\n",
    "p.start()\n",
    "c.start()\n",
    "p.join()\n",
    "c.join()\n",
    "time.sleep(1)\n",
    "print(\"Finished\")"
   ]
  },
  {
   "cell_type": "markdown",
   "id": "71cdad0f-5651-4c8a-9a36-a7fae3df2adc",
   "metadata": {},
   "source": [
    "# Buffer Size"
   ]
  },
  {
   "cell_type": "code",
   "execution_count": null,
   "id": "e937976b-1cb5-4cce-b205-7f1557dff44f",
   "metadata": {},
   "outputs": [
    {
     "name": "stdout",
     "output_type": "stream",
     "text": [
      "Produced 0 queue size 1\n",
      "Consumed 0\n",
      "Produced 4 queue size 1\n",
      "Produced 1 queue size 2\n",
      "Produced 4 queue size 3\n",
      "Produced 4 queue size 4\n",
      "Produced 3 queue size 5\n",
      "Produced 1 queue size 6\n",
      "Produced 0 queue size 7\n",
      "Produced 2 queue size 8\n",
      "Produced 4 queue size 9\n",
      "Consumed 4\n",
      "Produced 3 queue size 9\n",
      "Produced 0 queue size 10\n",
      "Full buffer\n",
      "Consumed 1\n",
      "Buffer ready, Consumer notified the producer\n",
      "Produced 2 queue size 10\n",
      "Full buffer\n",
      "Consumed 4\n",
      "Buffer ready, Consumer notified the producer\n",
      "Produced 0 queue size 10\n",
      "Full buffer\n"
     ]
    }
   ],
   "source": [
    "import threading\n",
    "from threading import Condition\n",
    "import time\n",
    "import random\n",
    "queue = []\n",
    "condition = Condition()\n",
    "\n",
    "def produce():\n",
    "    nums = range(5) #Will create the list [0, 1, 2, 3, 4]\n",
    "    global queue\n",
    "    MAX_NUM = 10\n",
    "    \n",
    "    while True:\n",
    "        num = random.choice(nums) #choose a random number from nums\n",
    "        condition.acquire()\n",
    "        if len(queue) == MAX_NUM:\n",
    "            print (\"Full buffer\")\n",
    "            condition.wait()\n",
    "            print (\"Buffer ready, Consumer notified the producer\")       \n",
    "        queue.append(num)\n",
    "        print(\"Produced\", num, \"queue size\", len(queue))\n",
    "        condition.notify()\n",
    "        condition.release()\n",
    "        time.sleep(1)\n",
    "\n",
    "def consume():\n",
    "    global queue\n",
    "    while True:\n",
    "        condition.acquire()\n",
    "        if not queue:\n",
    "            print (\"Nothing in queue, Wait\")\n",
    "            condition.wait()\n",
    "        num = queue.pop(0)\n",
    "        print(\"Consumed\", num)\n",
    "        condition.notify()\n",
    "        condition.release()\n",
    "        time.sleep(10)\n",
    "        \n",
    "p=threading.Thread(target=produce)\n",
    "c=threading.Thread(target=consume)\n",
    "p.start()\n",
    "c.start()\n",
    "p.join()\n",
    "c.join()\n",
    "time.sleep(1)\n",
    "print(\"Finished\")"
   ]
  }
 ],
 "metadata": {
  "kernelspec": {
   "display_name": "Python 3 (ipykernel)",
   "language": "python",
   "name": "python3"
  },
  "language_info": {
   "codemirror_mode": {
    "name": "ipython",
    "version": 3
   },
   "file_extension": ".py",
   "mimetype": "text/x-python",
   "name": "python",
   "nbconvert_exporter": "python",
   "pygments_lexer": "ipython3",
   "version": "3.10.5"
  }
 },
 "nbformat": 4,
 "nbformat_minor": 5
}
