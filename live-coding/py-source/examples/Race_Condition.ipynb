{
 "cells": [
  {
   "cell_type": "markdown",
   "id": "5160ef13-d03b-48f8-bb2e-8f71f65f16a0",
   "metadata": {},
   "source": [
    "# Race Condition Demo"
   ]
  },
  {
   "cell_type": "code",
   "execution_count": null,
   "id": "57b1642b-2dcb-480b-9193-6d6ece677457",
   "metadata": {},
   "outputs": [],
   "source": [
    "from datetime import datetime\n",
    "import threading\n",
    "import time"
   ]
  },
  {
   "cell_type": "markdown",
   "id": "7807aed1-97b1-4b1d-b023-386168c1fd41",
   "metadata": {},
   "source": [
    "# Unsafe counting causes race condition"
   ]
  },
  {
   "cell_type": "code",
   "execution_count": 53,
   "id": "7a18b140-b34b-4708-8bfb-3bf7734488d8",
   "metadata": {},
   "outputs": [],
   "source": [
    "# Unsafe thread function\n",
    "def do_count( eti):\n",
    "    global counter\n",
    "    for i in range(0,eti):\n",
    "        #---critical section \n",
    "        counter*=2\n",
    "        time.sleep(1e-6)#micro-second\n",
    "        counter/=2\n",
    "        counter+=1  \n",
    "        #--------------------\n"
   ]
  },
  {
   "cell_type": "markdown",
   "id": "70dbd7c8-bc32-4957-a239-02f47ead0ad4",
   "metadata": {},
   "source": [
    "# Safe counting with lock"
   ]
  },
  {
   "cell_type": "code",
   "execution_count": 54,
   "id": "e9914c5c-2030-43df-b327-5d3e36c0cac6",
   "metadata": {},
   "outputs": [],
   "source": [
    "from threading import Thread, Lock\n",
    "lock=Lock()\n",
    "def do_safe_count( eti):\n",
    "    global counter\n",
    "    for i in range(0,eti):\n",
    "        lock.acquire()\n",
    "         #---critical section \n",
    "        counter*=2\n",
    "        time.sleep(1e-6)#micro-second\n",
    "        counter/=2\n",
    "        counter+=1  \n",
    "        #--------------------\n",
    "        lock.release()"
   ]
  },
  {
   "cell_type": "markdown",
   "id": "aa86ec29-73c6-46e6-9fa4-93ad628de45c",
   "metadata": {},
   "source": [
    "# Use case"
   ]
  },
  {
   "cell_type": "code",
   "execution_count": 55,
   "id": "3f4d60a6-69c0-4b83-87c1-049142df39fc",
   "metadata": {},
   "outputs": [
    {
     "name": "stdout",
     "output_type": "stream",
     "text": [
      "Expected count =  250\n",
      "Unsafe count =  32.2303466796875 number of threads= 50\n",
      "Safe count =  250.0 number of threads= 50\n"
     ]
    }
   ],
   "source": [
    "# use case\n",
    "iterations=5\n",
    "number_of_threads=50\n",
    "expected_count=iterations*number_of_threads\n",
    "print(\"Expected count = \",expected_count )\n",
    "\n",
    "#shared memory\n",
    "counter=0\n",
    "\n",
    "ps=[] # list of threads \n",
    "#create the threads\n",
    "for i in range(number_of_threads):\n",
    "    p=threading.Thread(target=do_count,args=(iterations,))\n",
    "    ps.append(p)\n",
    "    \n",
    "for p in ps:\n",
    "    p.start()\n",
    "\n",
    "#To block the main thread (calling thread)\n",
    "# we need this to be able to print our final results\n",
    "for p in ps:\n",
    "    p.join()\n",
    "  \n",
    "print(\"Unsafe count = \",counter, \"number of threads=\", number_of_threads)\n",
    "\n",
    "\n",
    "counter=0\n",
    "ps=[] # list of threads \n",
    "\n",
    "#create the threads\n",
    "for i in range(number_of_threads):\n",
    "    p=threading.Thread(target=do_safe_count,args=(iterations,))\n",
    "    ps.append(p)\n",
    "    \n",
    "for p in ps:\n",
    "    p.start()\n",
    "\n",
    "#To block the main thread (calling thread)\n",
    "# we need this to be able to print our final results\n",
    "for p in ps:\n",
    "    p.join()\n",
    "  \n",
    "print(\"Safe count = \",counter, \"number of threads=\", number_of_threads)\n"
   ]
  },
  {
   "cell_type": "code",
   "execution_count": null,
   "id": "28dd0908-24b2-4f44-a6e8-2543ab5f7514",
   "metadata": {},
   "outputs": [],
   "source": []
  },
  {
   "cell_type": "code",
   "execution_count": null,
   "id": "d95c7789-a151-4db2-8fb6-dd41b481e434",
   "metadata": {},
   "outputs": [],
   "source": []
  }
 ],
 "metadata": {
  "kernelspec": {
   "display_name": "Python 3 (ipykernel)",
   "language": "python",
   "name": "python3"
  },
  "language_info": {
   "codemirror_mode": {
    "name": "ipython",
    "version": 3
   },
   "file_extension": ".py",
   "mimetype": "text/x-python",
   "name": "python",
   "nbconvert_exporter": "python",
   "pygments_lexer": "ipython3",
   "version": "3.10.5"
  }
 },
 "nbformat": 4,
 "nbformat_minor": 5
}
