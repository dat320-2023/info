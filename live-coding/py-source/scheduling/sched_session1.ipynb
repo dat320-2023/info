{
 "cells": [
  {
   "cell_type": "markdown",
   "id": "94192aa0-691b-4d08-95a1-8535ebbe5645",
   "metadata": {},
   "source": [
    "# Scheduling Concepts"
   ]
  },
  {
   "cell_type": "markdown",
   "id": "537538fc-45bb-450a-89f6-32b8b2030d75",
   "metadata": {},
   "source": [
    "## Proportional Share\n",
    "\n",
    "Try to guarantee that each job gets x % of CPU time"
   ]
  },
  {
   "cell_type": "markdown",
   "id": "b57241b2-8df8-428f-9ce2-1499735a4abc",
   "metadata": {},
   "source": [
    "### Lottery\n",
    "The tickets represent the share of CPU time"
   ]
  },
  {
   "cell_type": "code",
   "execution_count": null,
   "id": "41aa11f3-8d4f-428d-9587-ce516b5bccec",
   "metadata": {},
   "outputs": [],
   "source": []
  }
 ],
 "metadata": {
  "kernelspec": {
   "display_name": "Python 3 (ipykernel)",
   "language": "python",
   "name": "python3"
  },
  "language_info": {
   "codemirror_mode": {
    "name": "ipython",
    "version": 3
   },
   "file_extension": ".py",
   "mimetype": "text/x-python",
   "name": "python",
   "nbconvert_exporter": "python",
   "pygments_lexer": "ipython3",
   "version": "3.10.5"
  }
 },
 "nbformat": 4,
 "nbformat_minor": 5
}
