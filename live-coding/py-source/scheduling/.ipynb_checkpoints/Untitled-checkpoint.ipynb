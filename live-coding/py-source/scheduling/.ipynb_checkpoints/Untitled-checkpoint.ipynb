{
 "cells": [
  {
   "cell_type": "markdown",
   "id": "7a047f9f-7169-4bd7-8b1c-bb5815e114d2",
   "metadata": {},
   "source": [
    "# Call Stack"
   ]
  },
  {
   "cell_type": "code",
   "execution_count": 32,
   "id": "580299fe-9d93-4a63-b5a0-6af4c3edd3f1",
   "metadata": {},
   "outputs": [
    {
     "ename": "SyntaxError",
     "evalue": "invalid syntax (913749227.py, line 6)",
     "output_type": "error",
     "traceback": [
      "\u001b[0;36m  Cell \u001b[0;32mIn[32], line 6\u001b[0;36m\u001b[0m\n\u001b[0;31m    id(return a+b)\u001b[0m\n\u001b[0m       ^\u001b[0m\n\u001b[0;31mSyntaxError\u001b[0m\u001b[0;31m:\u001b[0m invalid syntax\n"
     ]
    }
   ],
   "source": [
    "\n",
    "def func1(a):\n",
    "    print(\"func 1\")\n",
    "    print(\"parameter a\", a)\n",
    "    b=2\n",
    "    print(\"local variable b\", id(b)\n",
    "   return a+b\n",
    "\n",
    "def func2(a):\n",
    "    b=func1(a)\n",
    "    print('b is local to func2', b)\n",
    "    return a+b\n",
    "\n",
    "def main_function()\n",
    "    r=func2(7)\n",
    "    "
   ]
  },
  {
   "cell_type": "code",
   "execution_count": 31,
   "id": "752b8b9e-79fc-422a-86d0-552e94683d30",
   "metadata": {},
   "outputs": [
    {
     "name": "stdout",
     "output_type": "stream",
     "text": [
      "call increment x= 0\n",
      "call increment x= 1\n",
      "call increment x= 2\n",
      "return value 3\n",
      "return value 3\n",
      "3\n"
     ]
    }
   ],
   "source": [
    "def increment(x,max):\n",
    "    print('call increment x=',x)\n",
    "    x+=1\n",
    "    if x>=max:\n",
    "        return x\n",
    "    x= increment(x,max)\n",
    "    print('return value',x)\n",
    "    return x\n",
    "\n",
    "r=increment(0,3)\n",
    "print(r)"
   ]
  },
  {
   "cell_type": "code",
   "execution_count": null,
   "id": "7e6efb03-3ef1-4f49-8929-dd8ac113a6ad",
   "metadata": {},
   "outputs": [],
   "source": []
  },
  {
   "cell_type": "code",
   "execution_count": 17,
   "id": "5babf372-ea53-4dc2-b104-7140bfc0376b",
   "metadata": {},
   "outputs": [
    {
     "data": {
      "text/plain": [
       "[4]"
      ]
     },
     "execution_count": 17,
     "metadata": {},
     "output_type": "execute_result"
    }
   ],
   "source": []
  },
  {
   "cell_type": "code",
   "execution_count": null,
   "id": "84b41b66-cc23-4d7c-acf3-bd7c57cfe7a2",
   "metadata": {},
   "outputs": [],
   "source": []
  }
 ],
 "metadata": {
  "kernelspec": {
   "display_name": "Python 3 (ipykernel)",
   "language": "python",
   "name": "python3"
  },
  "language_info": {
   "codemirror_mode": {
    "name": "ipython",
    "version": 3
   },
   "file_extension": ".py",
   "mimetype": "text/x-python",
   "name": "python",
   "nbconvert_exporter": "python",
   "pygments_lexer": "ipython3",
   "version": "3.10.5"
  }
 },
 "nbformat": 4,
 "nbformat_minor": 5
}
